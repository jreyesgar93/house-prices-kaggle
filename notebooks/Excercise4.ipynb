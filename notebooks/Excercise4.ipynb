{
 "cells": [
  {
   "cell_type": "code",
   "execution_count": 1,
   "id": "characteristic-contact",
   "metadata": {},
   "outputs": [],
   "source": [
    "import pickle\n",
    "import sklearn\n",
    "from sklearn.model_selection import train_test_split\n",
    "import matplotlib.pyplot as plt \n",
    "import scipy\n",
    "import numpy as np"
   ]
  },
  {
   "cell_type": "markdown",
   "id": "continuing-geography",
   "metadata": {},
   "source": [
    "### Loading Model"
   ]
  },
  {
   "cell_type": "code",
   "execution_count": 2,
   "id": "civic-voltage",
   "metadata": {},
   "outputs": [],
   "source": [
    "model_a = pickle.load(open(\"../model/selected_model.pkl\",\"rb\"))"
   ]
  },
  {
   "cell_type": "markdown",
   "id": "tough-agriculture",
   "metadata": {},
   "source": [
    "### Loading Data"
   ]
  },
  {
   "cell_type": "code",
   "execution_count": 3,
   "id": "historic-weight",
   "metadata": {},
   "outputs": [],
   "source": [
    "x_train, _, y_true_a, _ = pickle.load(open(\"../tmp/selected_features/selected_features_data.pkl\", \"rb\"))[\"data\"]"
   ]
  },
  {
   "cell_type": "markdown",
   "id": "pacific-summer",
   "metadata": {},
   "source": [
    "### Model A Predictions"
   ]
  },
  {
   "cell_type": "code",
   "execution_count": 4,
   "id": "exotic-nurse",
   "metadata": {},
   "outputs": [],
   "source": [
    "y_predictions_a = model_a.predict(x_train)"
   ]
  },
  {
   "cell_type": "code",
   "execution_count": 5,
   "id": "analyzed-george",
   "metadata": {},
   "outputs": [
    {
     "data": {
      "text/plain": [
       "Text(0, 0.5, 'density')"
      ]
     },
     "execution_count": 5,
     "metadata": {},
     "output_type": "execute_result"
    },
    {
     "data": {
      "image/png": "[encoded data removed]",
      "text/plain": [
       "<Figure size 432x288 with 1 Axes>"
      ]
     },
     "metadata": {
      "needs_background": "light"
     },
     "output_type": "display_data"
    }
   ],
   "source": [
    "plt.hist(y_predictions_a,density=True)\n",
    "plt.title(\"Full Sample Distibution\")\n",
    "plt.xlabel(\"Price\")\n",
    "plt.ylabel(\"density\")"
   ]
  },
  {
   "cell_type": "code",
   "execution_count": 6,
   "id": "filled-albania",
   "metadata": {},
   "outputs": [
    {
     "data": {
      "text/plain": [
       "(978,)"
      ]
     },
     "execution_count": 6,
     "metadata": {},
     "output_type": "execute_result"
    }
   ],
   "source": [
    "y_true_a.shape"
   ]
  },
  {
   "cell_type": "markdown",
   "id": "acceptable-object",
   "metadata": {},
   "source": [
    "### Defining Model B"
   ]
  },
  {
   "cell_type": "code",
   "execution_count": 7,
   "id": "timely-victoria",
   "metadata": {},
   "outputs": [],
   "source": [
    " x_train_b, _, y_true_b, _ = sklearn.model_selection.train_test_split(x_train, y_true_a, test_size=0.5, random_state=42)"
   ]
  },
  {
   "cell_type": "code",
   "execution_count": 8,
   "id": "mexican-latino",
   "metadata": {},
   "outputs": [
    {
     "data": {
      "text/plain": [
       "(489,)"
      ]
     },
     "execution_count": 8,
     "metadata": {},
     "output_type": "execute_result"
    }
   ],
   "source": [
    "y_true_b.shape"
   ]
  },
  {
   "cell_type": "code",
   "execution_count": 9,
   "id": "possible-winner",
   "metadata": {},
   "outputs": [],
   "source": [
    "y_predictions_b = model_a.predict(x_train_b)"
   ]
  },
  {
   "cell_type": "code",
   "execution_count": 10,
   "id": "urban-return",
   "metadata": {},
   "outputs": [
    {
     "data": {
      "text/plain": [
       "Text(0, 0.5, 'density')"
      ]
     },
     "execution_count": 10,
     "metadata": {},
     "output_type": "execute_result"
    },
    {
     "data": {
      "image/png": "[encoded data removed]",
      "text/plain": [
       "<Figure size 432x288 with 1 Axes>"
      ]
     },
     "metadata": {
      "needs_background": "light"
     },
     "output_type": "display_data"
    }
   ],
   "source": [
    "plt.hist(y_predictions_b,density=True,color =\"r\")\n",
    "plt.title(\"50% Sample Distibution\")\n",
    "plt.xlabel(\"Price\")\n",
    "plt.ylabel(\"density\")"
   ]
  },
  {
   "cell_type": "code",
   "execution_count": 11,
   "id": "dominican-modem",
   "metadata": {},
   "outputs": [],
   "source": [
    "def model_b(samples,size=489):\n",
    "    val = np.random.choice(samples,replace = True, size = size)\n",
    "    return val"
   ]
  },
  {
   "cell_type": "markdown",
   "id": "broke-registrar",
   "metadata": {},
   "source": [
    "## Experiment"
   ]
  },
  {
   "cell_type": "markdown",
   "id": "circular-theme",
   "metadata": {},
   "source": [
    "The experiment consists in comparing the two models' performance. Model A is a machine learning trained model and Model B is a random draw from the distribution from 50% of the predictions made by the machine learning model. A good model will not deviate more than 10,000 USD from the true price."
   ]
  },
  {
   "cell_type": "markdown",
   "id": "ready-humor",
   "metadata": {},
   "source": [
    "Let the prediction of model A be defined as $f(X_i)=\\hat y_i$ and the true value $y_i$ where $i \\in N=\\{(X_1,y_1),(X_2,y_2)...(X_n,y_n)\\}$ and $X_i$ is a vector of features.\n",
    "\n",
    "Model B is described as follows:\n",
    "\n",
    "Let $M \\subset N$. M is randomly selected and $\\#(M)=\\frac{\\#(N)}{2}$\n",
    "\n",
    "Let $W$ be a random variable from $f(x_m)$ from a random draw of $x_m \\in M$. \n",
    "\n",
    "\n",
    "We asume that a prediction within a +- 10,000 difference from its true value is considered a good prediction. To test which model is better we will caculate the proportions for each model and design a statistical test to determine if they are the same or if greater than the other. To do that we will use bootstap methods. \n",
    "\n",
    "For model B, we will simulate a sample of random $W$ as $\\{W_1,W_2...W_M\\}$ for our sample distribution and then calculate $g^b_i = 1 \\text{ if }  W - y_m\\leq 10000, 0 \\text{ othewise } $.\n",
    "For Model A we will do the following $g^a_i = 1 \\text{ if }  W - y_m\\leq 10000, 0 \\text{ othewise } $.\n",
    "\n",
    "\n",
    "Now from the set of $\\mathbf g^a$ and $\\mathbf g^b$ we will resample with replacement of the same size as their original set (978 and 498) and then calculate $T(\\mathbf g)$ where \n",
    "$T(\\mathbf g)= \\frac{\\sum^K_j g_j}{K^q}$ where $K^q$ is the number of elements in sets $\\mathbf g^a$ and $\\mathbf g^b$ (Note $q\\in{a,b}$)\n",
    "\n",
    "We will simulate this 10,000 times to get distributions of  $\\mathbf g^a$ and $\\mathbf g^b$, which would indicate distribution of porportion statistic for good predictions.\n",
    "\n",
    "\n",
    "If the confidence intervals do not overlap at all, we can assure both statistics are different and we could assume that the one centered further to the right will be better."
   ]
  },
  {
   "cell_type": "markdown",
   "id": "skilled-member",
   "metadata": {},
   "source": [
    "### Bootstraping distribution from model A"
   ]
  },
  {
   "cell_type": "code",
   "execution_count": 12,
   "id": "universal-fantasy",
   "metadata": {},
   "outputs": [],
   "source": [
    "def bootstrap_mean_a(y_predictions_a,y_true_a):\n",
    "    sample = abs(y_predictions_a-y_true_a)\n",
    "    sample[sample<10000]=1\n",
    "    sample[sample>=10000]=0\n",
    "    boot_sample_means = []\n",
    "    for i in range(10000):\n",
    "        boot_sample = np.random.choice(sample,replace = True, size = sample.shape[0])\n",
    "        boot_sample_means.append(np.mean(boot_sample))\n",
    "\n",
    "    return boot_sample_means"
   ]
  },
  {
   "cell_type": "code",
   "execution_count": 13,
   "id": "lyric-estate",
   "metadata": {},
   "outputs": [],
   "source": [
    "mean_prop_dist_a = bootstrap_mean_a(y_predictions_a,y_true_a)"
   ]
  },
  {
   "cell_type": "code",
   "execution_count": 14,
   "id": "surprising-microwave",
   "metadata": {},
   "outputs": [
    {
     "data": {
      "text/plain": [
       "Text(0, 0.5, 'density')"
      ]
     },
     "execution_count": 14,
     "metadata": {},
     "output_type": "execute_result"
    },
    {
     "data": {
      "image/png": "[encoded data removed]",
      "text/plain": [
       "<Figure size 432x288 with 1 Axes>"
      ]
     },
     "metadata": {
      "needs_background": "light"
     },
     "output_type": "display_data"
    }
   ],
   "source": [
    "plt.hist(mean_prop_dist_a,density=True)\n",
    "plt.title(\"Mean proportion distribution Model A\")\n",
    "plt.xlabel(\"proportion of good predictions\")\n",
    "plt.ylabel(\"density\")"
   ]
  },
  {
   "cell_type": "code",
   "execution_count": 15,
   "id": "false-asthma",
   "metadata": {},
   "outputs": [],
   "source": [
    "def bootstrap_mean_b(y_true_b):\n",
    "    draw_y_model_b = model_b(y_true_b)\n",
    "    sample =(abs(draw_y_model_b-y_true_b))\n",
    "        \n",
    "    sample[sample<10000]=1\n",
    "    sample[sample>=10000]=0\n",
    "    boot_sample_means = []\n",
    "    for i in range(10000):\n",
    "        boot_sample = np.random.choice(sample,replace = True, size = sample.shape[0])\n",
    "        boot_sample_means.append(np.mean(boot_sample))\n",
    "\n",
    "    return boot_sample_means"
   ]
  },
  {
   "cell_type": "code",
   "execution_count": 16,
   "id": "reserved-elite",
   "metadata": {},
   "outputs": [],
   "source": [
    "mean_prop_dist_b = bootstrap_mean_b(y_true_b)"
   ]
  },
  {
   "cell_type": "code",
   "execution_count": 17,
   "id": "encouraging-network",
   "metadata": {},
   "outputs": [
    {
     "data": {
      "text/plain": [
       "Text(0, 0.5, 'density')"
      ]
     },
     "execution_count": 17,
     "metadata": {},
     "output_type": "execute_result"
    },
    {
     "data": {
      "image/png": "[encoded data removed]",
      "text/plain": [
       "<Figure size 432x288 with 1 Axes>"
      ]
     },
     "metadata": {
      "needs_background": "light"
     },
     "output_type": "display_data"
    }
   ],
   "source": [
    "plt.hist(mean_prop_dist_b,density=True,color =\"r\")\n",
    "plt.title(\"Mean proportion distribution Model B\")\n",
    "plt.xlabel(\"proportion of good predictions\")\n",
    "plt.ylabel(\"density\")"
   ]
  },
  {
   "cell_type": "code",
   "execution_count": 18,
   "id": "burning-circulation",
   "metadata": {},
   "outputs": [
    {
     "data": {
      "text/plain": [
       "Text(0, 0.5, 'density')"
      ]
     },
     "execution_count": 18,
     "metadata": {},
     "output_type": "execute_result"
    },
    {
     "data": {
      "image/png": "[encoded data removed]",
      "text/plain": [
       "<Figure size 432x288 with 1 Axes>"
      ]
     },
     "metadata": {
      "needs_background": "light"
     },
     "output_type": "display_data"
    }
   ],
   "source": [
    "plt.hist([mean_prop_dist_a,mean_prop_dist_b],density=True,bins = 50, color = [\"b\",\"r\"])\n",
    "\n",
    "plt.title(\"Mean proportion distribution Model B\")\n",
    "plt.xlabel(\"proportion of good predictions\")\n",
    "plt.ylabel(\"density\")"
   ]
  },
  {
   "cell_type": "markdown",
   "id": "broke-spotlight",
   "metadata": {},
   "source": [
    "#### Getting Empirical distributions of the mean to build Confidence Intervals"
   ]
  },
  {
   "cell_type": "markdown",
   "id": "martial-edition",
   "metadata": {},
   "source": [
    "sample = np.linspace(0,1,10000)"
   ]
  },
  {
   "cell_type": "code",
   "execution_count": 19,
   "id": "active-photograph",
   "metadata": {},
   "outputs": [
    {
     "data": {
      "text/plain": [
       "[0.1196319018404908, 0.16359918200409]"
      ]
     },
     "execution_count": 19,
     "metadata": {},
     "output_type": "execute_result"
    }
   ],
   "source": [
    "ci_a=[scipy.stats.scoreatpercentile(mean_prop_dist_a,2.5),scipy.stats.scoreatpercentile(mean_prop_dist_a,97.5)]\n",
    "ci_a"
   ]
  },
  {
   "cell_type": "code",
   "execution_count": 20,
   "id": "funky-visitor",
   "metadata": {},
   "outputs": [
    {
     "data": {
      "text/plain": [
       "[0.044989775051124746, 0.08793456032719836]"
      ]
     },
     "execution_count": 20,
     "metadata": {},
     "output_type": "execute_result"
    }
   ],
   "source": [
    "ci_b=[scipy.stats.scoreatpercentile(mean_prop_dist_b,2.5),scipy.stats.scoreatpercentile(mean_prop_dist_b,97.5)]\n",
    "ci_b"
   ]
  },
  {
   "cell_type": "markdown",
   "id": "sharing-tolerance",
   "metadata": {},
   "source": [
    "CI Intervals do not overlap, so we reject that the average proportions are not the same in both models. "
   ]
  }
 ],
 "metadata": {
  "kernelspec": {
   "display_name": "Python 3",
   "language": "python",
   "name": "python3"
  },
  "language_info": {
   "codemirror_mode": {
    "name": "ipython",
    "version": 3
   },
   "file_extension": ".py",
   "mimetype": "text/x-python",
   "name": "python",
   "nbconvert_exporter": "python",
   "pygments_lexer": "ipython3",
   "version": "3.9.2"
  }
 },
 "nbformat": 4,
 "nbformat_minor": 5
}
